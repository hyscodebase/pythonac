{
 "cells": [
  {
   "metadata": {},
   "cell_type": "markdown",
   "source": [
    "# This is a sample Jupyter Notebook\n",
    "\n",
    "Below is an example of a code cell. \n",
    "Put your cursor into the cell and press Shift+Enter to execute it and select the next one, or click 'Run Cell' button.\n",
    "\n",
    "Press Double Shift to search everywhere for classes, files, tool windows, actions, and settings.\n",
    "\n",
    "To learn more about Jupyter Notebooks in PyCharm, see [help](https://www.jetbrains.com/help/pycharm/ipython-notebook-support.html).\n",
    "For an overview of PyCharm, go to Help -> Learn IDE features or refer to [our documentation](https://www.jetbrains.com/help/pycharm/getting-started.html)."
   ],
   "id": "8a77807f92f26ee"
  },
  {
   "metadata": {
    "ExecuteTime": {
     "end_time": "2025-03-13T05:27:18.009022Z",
     "start_time": "2025-03-13T05:27:13.776567Z"
    }
   },
   "cell_type": "code",
   "source": [
    "# 정수의 숫자를 입력받아 각 자리수 분리하여 출력하 프로그램\n",
    "\n",
    "num = int(input(\"정수를 입력하세요: \"))\n",
    "print(\"입력한 정수: \", num)\n",
    "\n",
    "H = num // 100\n",
    "T = num % 100 // 10\n",
    "O = num % 10\n",
    "\n",
    "print('백의 자리: ', H)\n",
    "print('십의 자리: ', T)\n",
    "print('일의 자리: ', O)"
   ],
   "id": "fbc121e30a2defb3",
   "outputs": [
    {
     "name": "stdout",
     "output_type": "stream",
     "text": [
      "입력한 정수:  456\n",
      "백의 자리:  4\n",
      "십의 자리:  5\n",
      "일의 자리:  6\n"
     ]
    }
   ],
   "execution_count": 2
  },
  {
   "metadata": {
    "ExecuteTime": {
     "end_time": "2025-03-13T05:28:51.627846Z",
     "start_time": "2025-03-13T05:28:47.081097Z"
    }
   },
   "cell_type": "code",
   "source": [
    "# 초단위의 숫자를 입력받아 시 분 초로 출력하는 프로그램 작성\n",
    "\n",
    "sec = int(input(\"초를 입력하세요: \"))\n",
    "print(\"입력한 초: \", sec)\n",
    "\n",
    "H = sec // 3600\n",
    "M = sec % 3600 // 60\n",
    "S = sec % 60\n",
    "\n",
    "print('시: ', H)\n",
    "print('분: ', M)\n",
    "print('초: ', S)\n"
   ],
   "id": "28068c2055a6866e",
   "outputs": [
    {
     "name": "stdout",
     "output_type": "stream",
     "text": [
      "입력한 초:  3700\n",
      "시:  1\n",
      "분:  1\n",
      "초:  40\n"
     ]
    }
   ],
   "execution_count": 3
  },
  {
   "metadata": {
    "ExecuteTime": {
     "end_time": "2025-03-13T05:33:20.482692Z",
     "start_time": "2025-03-13T05:33:09.267477Z"
    }
   },
   "cell_type": "code",
   "source": [
    "# 성적프로그램 출석 10%, 중간고사 30%, 기말고사 30%, 과제 30%로 가정하고 성적을 계산하는 프로그램 작성\n",
    "\n",
    "attendance = int(input(\"출석 점수를 입력하세요: \"))\n",
    "homework = int(input(\"과제 점수를 입력하세요: \"))\n",
    "midterm = int(input(\"중간고사 점수를 입력하세요: \"))\n",
    "final = int(input(\"기말고사 점수를 입력하세요: \"))\n",
    "\n",
    "total = attendance * 0.1\n",
    "total += homework * 0.3\n",
    "total += midterm * 0.3\n",
    "total += final * 0.3\n",
    "\n",
    "\n",
    "print('총점: ', total)"
   ],
   "id": "f565f31401c1eb95",
   "outputs": [
    {
     "name": "stdout",
     "output_type": "stream",
     "text": [
      "총점:  100.0\n"
     ]
    }
   ],
   "execution_count": 5
  },
  {
   "metadata": {},
   "cell_type": "code",
   "outputs": [],
   "execution_count": null,
   "source": [
    "# ame,cafelattee,cafemoca 세가지 메뉴가 각각 20, 10, 10개 판매되었고 재료비는 100,000원일 때 총 매출과 순이익 계산\n",
    "\n",
    "ame = 2000\n",
    "cafelattee = 3000\n",
    "cafemoca = 4000\n",
    "\n",
    "ame_count = 20\n",
    "cafelattee_count = 10\n",
    "cafemoca_count = 10\n",
    "\n",
    "total = ame * ame_count\n",
    "total += cafelattee * cafelattee_count\n",
    "total += cafemoca * cafemoca_count\n",
    "\n",
    "cost = 100000\n",
    "\n",
    "profit = total - cost\n",
    "\n",
    "print('총 매출: ', total)\n",
    "print('순이익: ', profit)\n"
   ],
   "id": "7475b5f079b08366"
  }
 ],
 "metadata": {
  "kernelspec": {
   "display_name": "Python 3",
   "language": "python",
   "name": "python3"
  },
  "language_info": {
   "codemirror_mode": {
    "name": "ipython",
    "version": 2
   },
   "file_extension": ".py",
   "mimetype": "text/x-python",
   "name": "python",
   "nbconvert_exporter": "python",
   "pygments_lexer": "ipython2",
   "version": "2.7.6"
  }
 },
 "nbformat": 4,
 "nbformat_minor": 5
}
