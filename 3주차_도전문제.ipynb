{
 "cells": [
  {
   "metadata": {
    "ExecuteTime": {
     "end_time": "2025-03-20T04:31:19.715162Z",
     "start_time": "2025-03-20T04:31:19.710854Z"
    }
   },
   "cell_type": "code",
   "source": [
    "#시간과 분을 입력받아 시간과 분을 알려주 프로그램 작성 10시 25분일 경우 10.25로 입력하고 현재 10시 25분입니다. 로 출력 <예제 5-1>\n",
    "def time():\n",
    "    try:\n",
    "        # 시간과 분 입력\n",
    "        hour, minute = input(\"시간과 분을 입력하세요(예: 10시 25분은 10.25): \").split(\".\")\n",
    "        hour, minute = int(hour), int(minute)\n",
    "\n",
    "        # 시간과 분 출력\n",
    "        print(f\"현재 {hour}시 {minute}분입니다.\")\n",
    "\n",
    "    except ValueError:\n",
    "        print(\"유효한 시간과 분을 입력해주세요.\")\n"
   ],
   "id": "71e1a476450bb084",
   "outputs": [],
   "execution_count": 5
  },
  {
   "metadata": {
    "ExecuteTime": {
     "end_time": "2025-03-20T04:31:45.637839Z",
     "start_time": "2025-03-20T04:31:35.848107Z"
    }
   },
   "cell_type": "code",
   "source": "time()",
   "id": "e3fe2bdfb5cfd1fa",
   "outputs": [
    {
     "name": "stdout",
     "output_type": "stream",
     "text": [
      "현재 20시 15분입니다.\n"
     ]
    }
   ],
   "execution_count": 6
  },
  {
   "metadata": {
    "ExecuteTime": {
     "end_time": "2025-03-20T05:10:30.464282Z",
     "start_time": "2025-03-20T05:10:25.771646Z"
    }
   },
   "cell_type": "code",
   "source": [
    "#배운거만 이용 <예제 5-1>\n",
    "Time = float(input(\"시간과 분을 입력하세요(예: 10시 25분은 10.25): \"))\n",
    "minute = int((Time - int(Time)) * 100)\n",
    "hour = int(Time)\n",
    "\n",
    "print(f\"현재 {hour}시 {minute}분입니다.\")"
   ],
   "id": "2e3baaef5afcf181",
   "outputs": [
    {
     "name": "stdout",
     "output_type": "stream",
     "text": [
      "현재 20시 35분입니다.\n"
     ]
    }
   ],
   "execution_count": 21
  },
  {
   "metadata": {
    "ExecuteTime": {
     "end_time": "2025-03-20T04:49:39.642519Z",
     "start_time": "2025-03-20T04:49:37.260527Z"
    }
   },
   "cell_type": "code",
   "source": [
    "#기상시간 입력과 처리할 내용의 출력 <예제 5-2>\n",
    "\n",
    "time = int(input(\"기상 시간을 입력하세요: \"))\n",
    "if time == 6:\n",
    "    print('알람이 울린다.')\n",
    "    print('바로 일어난다.')\n",
    "    print('알람을 끈다.')"
   ],
   "id": "a91f17d12dd39c1b",
   "outputs": [
    {
     "name": "stdout",
     "output_type": "stream",
     "text": [
      "알람이 울린다.\n",
      "바로 일어난다.\n",
      "알람을 끈다.\n"
     ]
    }
   ],
   "execution_count": 16
  },
  {
   "metadata": {
    "ExecuteTime": {
     "end_time": "2025-03-20T04:51:32.027830Z",
     "start_time": "2025-03-20T04:51:26.592818Z"
    }
   },
   "cell_type": "code",
   "source": [
    "#나이와 버스요금 <예제 5-4>\n",
    "age = int(input(\"나이를 입력하세요: \"))\n",
    "if age < 19:\n",
    "    print(\"요금 : 1000원\")\n",
    "else:\n",
    "    print(\"요금 : 1500원\")"
   ],
   "id": "da9e6b020fac91f2",
   "outputs": [
    {
     "name": "stdout",
     "output_type": "stream",
     "text": [
      "요금 : 1500원\n"
     ]
    }
   ],
   "execution_count": 17
  },
  {
   "metadata": {
    "ExecuteTime": {
     "end_time": "2025-03-20T04:54:31.139068Z",
     "start_time": "2025-03-20T04:54:27.633435Z"
    }
   },
   "cell_type": "code",
   "source": [
    "# 신호 판별 빨강 파랑 판별 프로그램 <추가 문제>\n",
    "color = input(\"신호등 색상을 입력하세요: (빨강, 파랑)\")\n",
    "if color == \"빨강\":\n",
    "    print(\"정지\")\n",
    "elif color == \"파랑\":\n",
    "    print(\"진행\")\n",
    "else:\n",
    "    print(\"잘못 입력했습니다.\")"
   ],
   "id": "6417fe71df6ce6c",
   "outputs": [
    {
     "name": "stdout",
     "output_type": "stream",
     "text": [
      "정지\n"
     ]
    }
   ],
   "execution_count": 18
  },
  {
   "metadata": {},
   "cell_type": "code",
   "outputs": [],
   "execution_count": null,
   "source": [
    "#양수 음수 0 판별 <예제 5-3>\n",
    "num = int(input(\"정수를 입력하세요: \"))\n",
    "if num > 0:\n",
    "    print(\"양수입니다.\")\n",
    "elif num < 0:\n",
    "    print(\"음수입니다.\")\n",
    "else:\n",
    "    print(\"0입니다.\")"
   ],
   "id": "a704be8677476b7"
  },
  {
   "metadata": {},
   "cell_type": "code",
   "outputs": [],
   "execution_count": null,
   "source": [
    "# 윤년 평년의 판단 <예제 5-5>\n",
    "year = int(input(\"연도를 입력하세요: \"))\n",
    "if year % 4 == 0 and year % 100 != 0 or year % 400 == 0:\n",
    "    print(\"윤년입니다.\")\n",
    "else:\n",
    "    print(\"평년입니다.\")"
   ],
   "id": "6de099132cd14e4c"
  },
  {
   "metadata": {},
   "cell_type": "code",
   "outputs": [],
   "execution_count": null,
   "source": [
    "# 13이하 650월, 13세 이상 19세 이하 1000원,  19세 이하 1500 <실전 프로그래밍 1>\n",
    "age = int(input(\"나이를 입력하세요: \"))\n",
    "if age <= 12:\n",
    "    print(\"요금 : 650원\")\n",
    "elif age <= 19:\n",
    "    print(\"요금 : 1000원\")\n",
    "else:\n",
    "    print(\"요금 : 1500원\")\n",
    "\n"
   ],
   "id": "717362986fd6f959"
  },
  {
   "metadata": {
    "ExecuteTime": {
     "end_time": "2025-03-20T05:15:58.061693Z",
     "start_time": "2025-03-20T05:15:54.782856Z"
    }
   },
   "cell_type": "code",
   "source": [
    "#음수 양수 판단과 홀수 짝수 판단 <실전프로그래밍 2>\n",
    "num = int(input(\"정수를 입력하세요: \"))\n",
    "if num > 0:\n",
    "    print(\"양수입니다.\")\n",
    "    if num % 2 == 0:\n",
    "        print(\"짝수입니다.\")\n",
    "    else:\n",
    "        print(\"홀수입니다.\")\n",
    "elif num < 0:\n",
    "    print(\"음수입니다.\")\n",
    "    if num % 2 == 0:\n",
    "        print(\"짝수입니다.\")\n",
    "    else:\n",
    "        print(\"홀수입니다.\")\n",
    "else:\n",
    "    print(\"0입니다.\")"
   ],
   "id": "ca741380c49109ac",
   "outputs": [
    {
     "name": "stdout",
     "output_type": "stream",
     "text": [
      "0입니다.\n"
     ]
    }
   ],
   "execution_count": 22
  },
  {
   "metadata": {
    "ExecuteTime": {
     "end_time": "2025-03-20T04:59:21.844450Z",
     "start_time": "2025-03-20T04:59:12.141214Z"
    }
   },
   "cell_type": "code",
   "source": [
    "# 사칙연산 선택 계산기 만들기 <예제문제 1>\n",
    "\n",
    "print(\"예제 설명: 두 수의 +, -, *, /, % 연산을 수행하는 프로그램입니다.\")\n",
    "print(\"-\" * 80)\n",
    "\n",
    "try:\n",
    "    # 첫 번째 수 입력\n",
    "    first_num = float(input(\"첫 번째 수를 입력하세요: \"))\n",
    "\n",
    "    # 계산할 연산자 입력\n",
    "    operator = input(\"계산할 연산자를 입력하세요 (+, -, *, /, %): \")\n",
    "\n",
    "    # 두 번째 수 입력\n",
    "    second_num = float(input(\"두 번째 수를 입력하세요: \"))\n",
    "\n",
    "    # 연산 수행\n",
    "    if operator == '+':\n",
    "        result = first_num + second_num\n",
    "    elif operator == '-':\n",
    "        result = first_num - second_num\n",
    "    elif operator == '*':\n",
    "        result = first_num * second_num\n",
    "    elif operator == '/':\n",
    "        if second_num == 0:\n",
    "            print(\"0으로 나눌 수 없습니다.\")\n",
    "        else:\n",
    "            result = first_num / second_num\n",
    "            print(f\"{first_num} {operator} {second_num} = {result}\")\n",
    "    elif operator == '%':\n",
    "        if second_num == 0:\n",
    "            print(\"0으로 나눌 수 없습니다.\")\n",
    "        else:\n",
    "            result = first_num % second_num\n",
    "            print(f\"{first_num} {operator} {second_num} = {result}\")\n",
    "    else:\n",
    "        print(\"연산자를 잘못 입력했습니다.\")\n",
    "\n",
    "    # 나누기와 나머지 연산이 아닌 경우 결과 출력\n",
    "    if operator in ['+', '-', '*']:\n",
    "        print(f\"{first_num} {operator} {second_num} = {result}\")\n",
    "\n",
    "except ValueError:\n",
    "    print(\"유효한 숫자를 입력해주세요.\")"
   ],
   "id": "46623b36a74ed13a",
   "outputs": [
    {
     "name": "stdout",
     "output_type": "stream",
     "text": [
      "예제 설명: 두 수의 +, -, *, /, % 연산을 수행하는 프로그램입니다.\n",
      "--------------------------------------------------------------------------------\n",
      "연산자를 잘못 입력했습니다.\n"
     ]
    }
   ],
   "execution_count": 20
  },
  {
   "metadata": {},
   "cell_type": "code",
   "outputs": [],
   "execution_count": null,
   "source": "",
   "id": "4548e9353ddff5b5"
  }
 ],
 "metadata": {
  "kernelspec": {
   "display_name": "Python 3",
   "language": "python",
   "name": "python3"
  },
  "language_info": {
   "codemirror_mode": {
    "name": "ipython",
    "version": 2
   },
   "file_extension": ".py",
   "mimetype": "text/x-python",
   "name": "python",
   "nbconvert_exporter": "python",
   "pygments_lexer": "ipython2",
   "version": "2.7.6"
  }
 },
 "nbformat": 4,
 "nbformat_minor": 5
}
